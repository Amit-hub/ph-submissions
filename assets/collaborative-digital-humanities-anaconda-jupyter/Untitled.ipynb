{
 "cells": [
  {
   "cell_type": "code",
   "execution_count": 14,
   "metadata": {
    "collapsed": true
   },
   "outputs": [],
   "source": [
    "##\n",
    "\n"
   ]
  },
  {
   "cell_type": "code",
   "execution_count": 3,
   "metadata": {},
   "outputs": [
    {
     "name": "stdout",
     "output_type": "stream",
     "text": [
      "/Users/thomasj/anaconda/envs/geopandas_test_env/bin:/Users/thomasj/anaconda/envs/geopandas_test_env/bin:/Users/thomasj/.rvm/gems/ruby-2.4.0/bin:/Users/thomasj/.rvm/gems/ruby-2.4.0@global/bin:/Users/thomasj/.rvm/rubies/ruby-2.4.0/bin:/Users/thomasj/anaconda/bin:/Applications/Sublime\\ Text\\ 2.app/Contents/SharedSupport/bin:/Applications/Julia-0.5.app/Contents/Resources/julia/bin/:/usr/bin:/bin:/usr/sbin:/sbin:/usr/local/bin:/Applications/gedit.app/Contents/MacOS/:/opt/X11/bin:/Library/TeX/texbin:/Users/thomasj/.rvm/bin\r\n"
     ]
    }
   ],
   "source": [
    "! echo $PATH"
   ]
  },
  {
   "cell_type": "code",
   "execution_count": 5,
   "metadata": {},
   "outputs": [
    {
     "name": "stdout",
     "output_type": "stream",
     "text": [
      "--2017-08-14 18:13:37--  https://chromedriver.storage.googleapis.com/2.31/chromedriver_mac64.zip\n",
      "Resolving chromedriver.storage.googleapis.com... 2607:f8b0:4004:802::2010, 172.217.5.240\n",
      "Connecting to chromedriver.storage.googleapis.com|2607:f8b0:4004:802::2010|:443... connected.\n",
      "HTTP request sent, awaiting response... 200 OK\n",
      "Length: 5170321 (4.9M) [application/zip]\n",
      "Saving to: ‘/Users/thomasj/anaconda/envs/geopandas_test_env/bin/chromedriver_mac64.zip’\n",
      "\n",
      "chromedriver_mac64. 100%[===================>]   4.93M  2.83MB/s    in 1.7s    \n",
      "\n",
      "2017-08-14 18:13:39 (2.83 MB/s) - ‘/Users/thomasj/anaconda/envs/geopandas_test_env/bin/chromedriver_mac64.zip’ saved [5170321/5170321]\n",
      "\n"
     ]
    }
   ],
   "source": [
    "! wget https://chromedriver.storage.googleapis.com/2.31/chromedriver_mac64.zip -P /Users/thomasj/anaconda/envs/geopandas_test_env/bin"
   ]
  },
  {
   "cell_type": "code",
   "execution_count": 10,
   "metadata": {},
   "outputs": [
    {
     "name": "stdout",
     "output_type": "stream",
     "text": [
      "Archive:  /Users/thomasj/anaconda/envs/geopandas_test_env/bin/chromedriver_mac64.zip\n",
      "  inflating: /Users/thomasj/anaconda/envs/geopandas_test_env/bin/chromedriver  \n"
     ]
    }
   ],
   "source": [
    "! unzip /Users/thomasj/anaconda/envs/geopandas_test_env/bin/chromedriver_mac64.zip -d /Users/thomasj/anaconda/envs/geopandas_test_env/bin/"
   ]
  },
  {
   "cell_type": "code",
   "execution_count": 12,
   "metadata": {},
   "outputs": [
    {
     "name": "stdout",
     "output_type": "stream",
     "text": [
      "chromedriver*\r\n",
      "chromedriver_mac64.zip\r\n"
     ]
    }
   ],
   "source": [
    "ls /Users/thomasj/anaconda/envs/geopandas_test_env/bin/ | grep chrome"
   ]
  },
  {
   "cell_type": "markdown",
   "metadata": {},
   "source": [
    "<div class=\"cell code_cell rendered selected\" tabindex=\"2\"><div class=\"input\"><div class=\"prompt input_prompt\"><bdi>In</bdi>&nbsp;[&nbsp;]:</div><div class=\"inner_cell\"><div class=\"ctb_hideshow\"><div class=\"celltoolbar\"></div></div><div class=\"input_area\"><div class=\"CodeMirror cm-s-ipython\"><div style=\"overflow: hidden; position: relative; width: 3px; height: 0px; top: 5.58594px; left: 5.58594px;\"><textarea autocorrect=\"off\" autocapitalize=\"off\" spellcheck=\"false\" tabindex=\"0\" style=\"position: absolute; bottom: -1em; padding: 0px; width: 1000px; height: 1em; outline: none;\"></textarea></div><div class=\"CodeMirror-vscrollbar\" cm-not-content=\"true\" style=\"width: 18px; pointer-events: none;\"><div style=\"min-width: 1px; height: 0px;\"></div></div><div class=\"CodeMirror-hscrollbar\" cm-not-content=\"true\" style=\"height: 18px; pointer-events: none;\"><div style=\"height: 100%; min-height: 1px; width: 0px;\"></div></div><div class=\"CodeMirror-scrollbar-filler\" cm-not-content=\"true\"></div><div class=\"CodeMirror-gutter-filler\" cm-not-content=\"true\"></div><div class=\"CodeMirror-scroll\" tabindex=\"-1\"><div class=\"CodeMirror-sizer\" style=\"margin-left: 0px; min-width: 3px; margin-bottom: 0px; border-right-width: 30px; min-height: 28px; padding-right: 0px; padding-bottom: 0px;\"><div style=\"position: relative; top: 0px;\"><div class=\"CodeMirror-lines\"><div style=\"position: relative; outline: none;\"><div class=\"CodeMirror-measure\"></div><div class=\"CodeMirror-measure\"></div><div style=\"position: relative; z-index: 1;\"></div><div class=\"CodeMirror-cursors\" style=\"\"><div class=\"CodeMirror-cursor\" style=\"left: 0px; top: 0px; height: 16.25px;\">&nbsp;</div></div><div class=\"CodeMirror-code\"><pre class=\" CodeMirror-line \"><span style=\"padding-right: 0.1px;\"><span cm-text=\"\">​</span></span></pre></div></div></div></div></div><div style=\"position: absolute; height: 30px; width: 1px; border-bottom: 0px solid transparent; top: 28px;\"></div><div class=\"CodeMirror-gutters\" style=\"display: none; height: 58px;\"></div></div></div></div></div></div><div class=\"widget-area\" style=\"display: none;\"><div class=\"prompt\"><button class=\"close\">×</button></div><div class=\"widget-subarea jp-Output-result\"></div></div><div class=\"output_wrapper\"><div class=\"out_prompt_overlay prompt\" title=\"click to expand output; double click to hide output\" style=\"display: none;\"></div><div class=\"output\" style=\"display: none;\"></div><div class=\"btn btn-default output_collapsed\" title=\"click to expand output\" style=\"display: none;\">. . .</div></div></div>"
   ]
  },
  {
   "cell_type": "markdown",
   "metadata": {},
   "source": [
    "<div class=\"CodeMirror cm-s-ipython\"><div style=\"overflow: hidden; position: relative; width: 3px; height: 0px; top: 5.59375px; left: 5.59375px;\"><textarea autocorrect=\"off\" autocapitalize=\"off\" spellcheck=\"false\" tabindex=\"0\" style=\"position: absolute; bottom: -1em; padding: 0px; width: 1000px; height: 1em; outline: none;\"></textarea></div><div class=\"CodeMirror-vscrollbar\" cm-not-content=\"true\" style=\"width: 18px; pointer-events: none;\"><div style=\"min-width: 1px; height: 0px;\"></div></div><div class=\"CodeMirror-hscrollbar\" cm-not-content=\"true\" style=\"height: 18px; pointer-events: none;\"><div style=\"height: 100%; min-height: 1px; width: 0px;\"></div></div><div class=\"CodeMirror-scrollbar-filler\" cm-not-content=\"true\"></div><div class=\"CodeMirror-gutter-filler\" cm-not-content=\"true\"></div><div class=\"CodeMirror-scroll\" tabindex=\"-1\"><div class=\"CodeMirror-sizer\" style=\"margin-left: 0px; min-width: 3px; margin-bottom: 0px; border-right-width: 30px; min-height: 28px; padding-right: 0px; padding-bottom: 0px;\"><div style=\"position: relative; top: 0px;\"><div class=\"CodeMirror-lines\"><div style=\"position: relative; outline: none;\"><div class=\"CodeMirror-measure\"></div><div class=\"CodeMirror-measure\"></div><div style=\"position: relative; z-index: 1;\"></div><div class=\"CodeMirror-cursors\" style=\"visibility: hidden;\"><div class=\"CodeMirror-cursor\" style=\"left: 0px; top: 0px; height: 17px;\">&nbsp;</div></div><div class=\"CodeMirror-code\"><pre class=\" CodeMirror-line \"><span style=\"padding-right: 0.1px;\"><span cm-text=\"\">​</span></span></pre></div></div></div></div></div><div style=\"position: absolute; height: 30px; width: 1px; border-bottom: 0px solid transparent; top: 28px;\"></div><div class=\"CodeMirror-gutters\" style=\"display: none; height: 58px;\"></div></div></div>"
   ]
  },
  {
   "cell_type": "markdown",
   "metadata": {},
   "source": [
    "<body class=\"notebook_app command_mode\" data-jupyter-api-token=\"60b1db32caf20b2dce76a1a87b7a5d6f814f1c17ca12dca7\" data-base-url=\"/\" data-ws-url=\"\" data-notebook-name=\"Untitled1.ipynb\" data-notebook-path=\"Untitled1.ipynb\" dir=\"ltr\" data-gr-c-s-loaded=\"true\" style=\"\"><div style=\"visibility: hidden; overflow: hidden; position: absolute; top: 0px; height: 1px; width: auto; padding: 0px; border: 0px; margin: 0px; text-align: left; text-indent: 0px; text-transform: none; line-height: normal; letter-spacing: normal; word-spacing: normal;\"><div id=\"MathJax_Hidden\"></div></div><div id=\"MathJax_Message\" style=\"display: none;\"></div>\n",
    "\n",
    "<noscript>\n",
    "    &lt;div id='noscript'&gt;\n",
    "      Jupyter Notebook requires JavaScript.&lt;br&gt;\n",
    "      Please enable it to proceed.\n",
    "  &lt;/div&gt;\n",
    "</noscript>\n",
    "\n",
    "<div id=\"header\" style=\"display: block;\">\n",
    "  <div id=\"header-container\" class=\"container\" style=\"display: none;\">\n",
    "  <div id=\"ipython_notebook\" class=\"nav navbar-brand pull-left\"><a href=\"/tree\" title=\"dashboard\"><img src=\"/static/base/images/logo.png?v=641991992878ee24c6f3826e81054a0f\" alt=\"Jupyter Notebook\"></a></div>\n",
    "\n",
    "  \n",
    "  \n",
    "  \n",
    "\n",
    "    <span id=\"login_widget\">\n",
    "      \n",
    "        <button id=\"logout\" class=\"btn btn-sm navbar-btn\">Logout</button>\n",
    "      \n",
    "    </span>\n",
    "\n",
    "  \n",
    "\n",
    "  \n",
    "\n",
    "  \n",
    "\n",
    "\n",
    "<span id=\"save_widget\" class=\"pull-left save_widget\">\n",
    "    <span id=\"notebook_name\" class=\"filename\">Untitled1</span>\n",
    "    <span class=\"checkpoint_status\" title=\"Mon, Aug 14, 2017 6:17 PM\">Last Checkpoint: Yesterday at 6:17 PM</span>\n",
    "    <span class=\"autosave_status\">(autosaved)</span>\n",
    "<i id=\"notebook-trusted-indicator\" class=\"fa notebook-trusted fa-check\" title=\"Notebook is trusted\"></i></span>\n",
    "\n",
    "<span id=\"kernel_logo_widget\">\n",
    "  \n",
    "  <img class=\"current_kernel_logo\" src=\"/kernelspecs/python3/logo-64x64.png\" title=\"Python 3\" style=\"display: inline;\">\n",
    "  \n",
    "</span>\n",
    "\n",
    "\n",
    "  </div>\n",
    "  <div class=\"header-bar\" style=\"display: none;\"></div>\n",
    "\n",
    "  \n",
    "<div id=\"menubar-container\" class=\"container\">\n",
    "<div id=\"menubar\">\n",
    "    <div id=\"menus\" class=\"navbar navbar-default\" role=\"navigation\">\n",
    "        <div class=\"container-fluid\">\n",
    "            <button type=\"button\" class=\"btn btn-default navbar-btn navbar-toggle\" data-toggle=\"collapse\" data-target=\".navbar-collapse\">\n",
    "              <i class=\"fa fa-bars\"></i>\n",
    "              <span class=\"navbar-text\">Menu</span>\n",
    "            </button>\n",
    "            <p id=\"kernel_indicator\" class=\"navbar-text indicator_area\">\n",
    "              <span class=\"kernel_indicator_name\">Python 3</span>\n",
    "              <i id=\"kernel_indicator_icon\" class=\"kernel_disconnected_icon\" title=\"No Connection to Kernel\"></i>\n",
    "            </p>\n",
    "            <i id=\"readonly-indicator\" class=\"navbar-text\" title=\"This notebook is read-only\" style=\"display: none;\">\n",
    "                <span class=\"fa-stack\">\n",
    "                    <i class=\"fa fa-save fa-stack-1x\"></i>\n",
    "                    <i class=\"fa fa-ban fa-stack-2x text-danger\"></i>\n",
    "                </span>\n",
    "            </i>\n",
    "            <i id=\"modal_indicator\" class=\"navbar-text modal_indicator\" title=\"Command Mode\"></i>\n",
    "            <span id=\"notification_area\"><div id=\"notification_kernel\" class=\"notification_widget btn btn-xs navbar-btn undefined danger\" style=\"display: inline-block;\"><span title=\"click to reconnect\">Not Connected</span></div><div id=\"notification_notebook\" class=\"notification_widget btn btn-xs navbar-btn\" style=\"display: none;\"><span></span></div><div id=\"notification_trusted\" class=\"notification_widget btn btn-xs navbar-btn\" style=\"display: inline-block;\"><span>Trusted</span></div><div id=\"notification_widgets\" class=\"notification_widget btn btn-xs navbar-btn\" style=\"display: none;\"><span></span></div></span>\n",
    "            <div class=\"navbar-collapse collapse\">\n",
    "              <ul class=\"nav navbar-nav\">\n",
    "                <li class=\"dropdown\"><a href=\"#\" class=\"dropdown-toggle\" data-toggle=\"dropdown\">File</a>\n",
    "                    <ul id=\"file_menu\" class=\"dropdown-menu\">\n",
    "                        <li id=\"new_notebook\" class=\"dropdown-submenu\">\n",
    "                            <a href=\"#\">New Notebook</a>\n",
    "                            <ul class=\"dropdown-menu\" id=\"menu-new-notebook-submenu\"><li id=\"new-notebook-submenu-python3\"><a href=\"#\">Python 3</a></li><li class=\"divider\"></li><li id=\"new-notebook-submenu-julia-0.5\"><a href=\"#\">Julia 0.5.2</a></li></ul>\n",
    "                        </li>\n",
    "                        <li id=\"open_notebook\" title=\"Opens a new window with the Dashboard view\">\n",
    "                            <a href=\"#\">Open...</a></li>\n",
    "                        <!-- <hr/> -->\n",
    "                        <li class=\"divider\"></li>\n",
    "                        <li id=\"copy_notebook\" title=\"Open a copy of this notebook's contents and start a new kernel\">\n",
    "                            <a href=\"#\">Make a Copy...</a></li>\n",
    "                        <li id=\"rename_notebook\"><a href=\"#\">Rename...</a></li>\n",
    "                        <li id=\"save_checkpoint\"><a href=\"#\">Save and Checkpoint</a></li>\n",
    "                        <!-- <hr/> -->\n",
    "                        <li class=\"divider\"></li>\n",
    "                        <li id=\"restore_checkpoint\" class=\"dropdown-submenu\"><a href=\"#\">Revert to Checkpoint</a>\n",
    "                          <ul class=\"dropdown-menu\"><li><a href=\"#\">Monday, August 14, 2017 6:17 PM</a></li></ul>\n",
    "                        </li>\n",
    "                        <li class=\"divider\"></li>\n",
    "                        <li id=\"print_preview\"><a href=\"#\">Print Preview</a></li>\n",
    "                        <li class=\"dropdown-submenu\"><a href=\"#\">Download as</a>\n",
    "                            <ul id=\"download_menu\" class=\"dropdown-menu\">\n",
    "                                <li id=\"download_ipynb\"><a href=\"#\">Notebook (.ipynb)</a></li>\n",
    "                                <li id=\"download_script\"><a href=\"#\">Python (.py)</a></li>\n",
    "                                <li id=\"download_html\"><a href=\"#\">HTML (.html)</a></li>\n",
    "                                <li id=\"download_markdown\"><a href=\"#\">Markdown (.md)</a></li>\n",
    "                                <li id=\"download_rst\"><a href=\"#\">reST (.rst)</a></li>\n",
    "                                <li id=\"download_latex\"><a href=\"#\">LaTeX (.tex)</a></li>\n",
    "                                <li id=\"download_pdf\"><a href=\"#\">PDF via LaTeX (.pdf)</a></li>\n",
    "                            </ul>\n",
    "                        </li>\n",
    "                        <li class=\"dropdown-submenu hidden\"><a href=\"#\">Deploy as</a>\n",
    "                            <ul id=\"deploy_menu\" class=\"dropdown-menu\"></ul>\n",
    "                        </li>\n",
    "                        <li class=\"divider\"></li>\n",
    "                        <li id=\"trust_notebook\" title=\"Trust the output of this notebook\" class=\"disabled\">\n",
    "                            <a href=\"#\">Trusted Notebook</a></li>\n",
    "                        <li class=\"divider\"></li>\n",
    "                        <li id=\"kill_and_exit\" title=\"Shutdown this notebook's kernel, and close this window\">\n",
    "                            <a href=\"#\">Close and Halt</a></li>\n",
    "                    </ul>\n",
    "                </li>\n",
    "                <li class=\"dropdown\"><a href=\"#\" class=\"dropdown-toggle\" data-toggle=\"dropdown\">Edit</a>\n",
    "                    <ul id=\"edit_menu\" class=\"dropdown-menu\">\n",
    "                        <li id=\"cut_cell\"><a href=\"#\">Cut Cells</a></li>\n",
    "                        <li id=\"copy_cell\"><a href=\"#\">Copy Cells</a></li>\n",
    "                        <li id=\"paste_cell_above\" class=\"\"><a href=\"#\">Paste Cells Above</a></li>\n",
    "                        <li id=\"paste_cell_below\" class=\"\"><a href=\"#\">Paste Cells Below</a></li>\n",
    "                        <li id=\"paste_cell_replace\" class=\"\"><a href=\"#\">Paste Cells &amp; Replace</a></li>\n",
    "                        <li id=\"delete_cell\"><a href=\"#\">Delete Cells</a></li>\n",
    "                        <li id=\"undelete_cell\" class=\"\"><a href=\"#\">Undo Delete Cells</a></li>\n",
    "                        <li class=\"divider\"></li>\n",
    "                        <li id=\"split_cell\"><a href=\"#\">Split Cell</a></li>\n",
    "                        <li id=\"merge_cell_above\"><a href=\"#\">Merge Cell Above</a></li>\n",
    "                        <li id=\"merge_cell_below\"><a href=\"#\">Merge Cell Below</a></li>\n",
    "                        <li class=\"divider\"></li>\n",
    "                        <li id=\"move_cell_up\"><a href=\"#\">Move Cell Up</a></li>\n",
    "                        <li id=\"move_cell_down\"><a href=\"#\">Move Cell Down</a></li>\n",
    "                        <li class=\"divider\"></li>\n",
    "                        <li id=\"edit_nb_metadata\"><a href=\"#\">Edit Notebook Metadata</a></li>\n",
    "                        <li class=\"divider\"></li>\n",
    "                        <li id=\"find_and_replace\"><a href=\"#\"> Find and Replace </a></li>\n",
    "                        <li class=\"divider\"></li>\n",
    "                        <li id=\"cut_cell_attachments\"><a href=\"#\">Cut Cell Attachments</a></li>\n",
    "                        <li id=\"copy_cell_attachments\"><a href=\"#\">Copy Cell Attachments</a></li>\n",
    "                        <li id=\"paste_cell_attachments\" class=\"disabled\"><a href=\"#\">Paste Cell Attachments</a></li>\n",
    "                        <li class=\"divider\"></li>\n",
    "                        <li id=\"insert_image\" class=\"disabled\"><a href=\"#\"> Insert Image </a></li>\n",
    "                    <li class=\"divider\"></li><li><a target=\"_blank\" title=\"Opens in a new window\" href=\"/nbextensions/\"> <i class=\"fa fa-cogs menu-icon pull-right\"></i><span>nbextensions config</span></a></li></ul>\n",
    "                </li>\n",
    "                <li class=\"dropdown\"><a href=\"#\" class=\"dropdown-toggle\" data-toggle=\"dropdown\">View</a>\n",
    "                    <ul id=\"view_menu\" class=\"dropdown-menu\">\n",
    "                        <li id=\"toggle_header\" title=\"Show/Hide the logo and notebook title (above menu bar)\">\n",
    "                            <a href=\"#\">Toggle Header</a>\n",
    "                        </li>\n",
    "                        <li id=\"toggle_toolbar\" title=\"Show/Hide the action icons (below menu bar)\">\n",
    "                            <a href=\"#\">Toggle Toolbar</a>\n",
    "                        </li>\n",
    "                        <li id=\"toggle_line_numbers\" title=\"Show/Hide line numbers in cells\">\n",
    "                            <a href=\"#\">Toggle Line Numbers</a>\n",
    "                        </li>\n",
    "                        <li id=\"menu-cell-toolbar\" class=\"dropdown-submenu\">\n",
    "                            <a href=\"#\">Cell Toolbar</a>\n",
    "                            <ul class=\"dropdown-menu\" id=\"menu-cell-toolbar-submenu\"><li data-name=\"None\"><a href=\"#\">None</a></li><li data-name=\"Edit%20Metadata\"><a href=\"#\">Edit Metadata</a></li><li data-name=\"Raw%20Cell%20Format\"><a href=\"#\">Raw Cell Format</a></li><li data-name=\"Slideshow\"><a href=\"#\">Slideshow</a></li><li data-name=\"Attachments\"><a href=\"#\">Attachments</a></li><li data-name=\"Tags\"><a href=\"#\">Tags</a></li></ul>\n",
    "                        </li>\n",
    "                    </ul>\n",
    "                </li>\n",
    "                <li class=\"dropdown\"><a href=\"#\" class=\"dropdown-toggle\" data-toggle=\"dropdown\">Insert</a>\n",
    "                    <ul id=\"insert_menu\" class=\"dropdown-menu\">\n",
    "                        <li id=\"insert_cell_above\" title=\"Insert an empty Code cell above the currently active cell\">\n",
    "                            <a href=\"#\">Insert Cell Above</a></li>\n",
    "                        <li id=\"insert_cell_below\" title=\"Insert an empty Code cell below the currently active cell\">\n",
    "                            <a href=\"#\">Insert Cell Below</a></li>\n",
    "                    </ul>\n",
    "                </li>\n",
    "                <li class=\"dropdown\"><a href=\"#\" class=\"dropdown-toggle\" data-toggle=\"dropdown\">Cell</a>\n",
    "                    <ul id=\"cell_menu\" class=\"dropdown-menu\">\n",
    "                        <li id=\"run_cell\" title=\"Run this cell, and move cursor to the next one\">\n",
    "                            <a href=\"#\">Run Cells</a></li>\n",
    "                        <li id=\"run_cell_select_below\" title=\"Run this cell, select below\">\n",
    "                            <a href=\"#\">Run Cells and Select Below</a></li>\n",
    "                        <li id=\"run_cell_insert_below\" title=\"Run this cell, insert below\">\n",
    "                            <a href=\"#\">Run Cells and Insert Below</a></li>\n",
    "                        <li id=\"run_all_cells\" title=\"Run all cells in the notebook\">\n",
    "                            <a href=\"#\">Run All</a></li>\n",
    "                        <li id=\"run_all_cells_above\" title=\"Run all cells above (but not including) this cell\">\n",
    "                            <a href=\"#\">Run All Above</a></li>\n",
    "                        <li id=\"run_all_cells_below\" title=\"Run this cell and all cells below it\">\n",
    "                            <a href=\"#\">Run All Below</a></li>\n",
    "                        <li class=\"divider\"></li>\n",
    "                        <li id=\"change_cell_type\" class=\"dropdown-submenu\" title=\"All cells in the notebook have a cell type. By default, new cells are created as 'Code' cells\">\n",
    "                            <a href=\"#\">Cell Type</a>\n",
    "                            <ul class=\"dropdown-menu\">\n",
    "                              <li id=\"to_code\" title=\"Contents will be sent to the kernel for execution, and output will display in the footer of cell\">\n",
    "                                  <a href=\"#\">Code</a></li>\n",
    "                              <li id=\"to_markdown\" title=\"Contents will be rendered as HTML and serve as explanatory text\">\n",
    "                                  <a href=\"#\">Markdown</a></li>\n",
    "                              <li id=\"to_raw\" title=\"Contents will pass through nbconvert unmodified\">\n",
    "                                  <a href=\"#\">Raw NBConvert</a></li>\n",
    "                            </ul>\n",
    "                        </li>\n",
    "                        <li class=\"divider\"></li>\n",
    "                        <li id=\"current_outputs\" class=\"dropdown-submenu\"><a href=\"#\">Current Outputs</a>\n",
    "                            <ul class=\"dropdown-menu\">\n",
    "                                <li id=\"toggle_current_output\" title=\"Hide/Show the output of the current cell\">\n",
    "                                    <a href=\"#\">Toggle</a>\n",
    "                                </li>\n",
    "                                <li id=\"toggle_current_output_scroll\" title=\"Scroll the output of the current cell\">\n",
    "                                    <a href=\"#\">Toggle Scrolling</a>\n",
    "                                </li>\n",
    "                                <li id=\"clear_current_output\" title=\"Clear the output of the current cell\">\n",
    "                                    <a href=\"#\">Clear</a>\n",
    "                                </li>\n",
    "                            </ul>\n",
    "                        </li>\n",
    "                        <li id=\"all_outputs\" class=\"dropdown-submenu\"><a href=\"#\">All Output</a>\n",
    "                            <ul class=\"dropdown-menu\">\n",
    "                                <li id=\"toggle_all_output\" title=\"Hide/Show the output of all cells\">\n",
    "                                    <a href=\"#\">Toggle</a>\n",
    "                                </li>\n",
    "                                <li id=\"toggle_all_output_scroll\" title=\"Scroll the output of all cells\">\n",
    "                                    <a href=\"#\">Toggle Scrolling</a>\n",
    "                                </li>\n",
    "                                <li id=\"clear_all_output\" title=\"Clear the output of all cells\">\n",
    "                                    <a href=\"#\">Clear</a>\n",
    "                                </li>\n",
    "                            </ul>\n",
    "                        </li>\n",
    "                    </ul>\n",
    "                </li>\n",
    "                <li class=\"dropdown\"><a href=\"#\" class=\"dropdown-toggle\" data-toggle=\"dropdown\">Kernel</a>\n",
    "                    <ul id=\"kernel_menu\" class=\"dropdown-menu\">\n",
    "                        <li id=\"int_kernel\" title=\"Send KeyboardInterrupt (CTRL-C) to the Kernel\">\n",
    "                            <a href=\"#\">Interrupt</a>\n",
    "                        </li>\n",
    "                        <li id=\"restart_kernel\" title=\"Restart the Kernel\">\n",
    "                            <a href=\"#\">Restart</a>\n",
    "                        </li>\n",
    "                        <li id=\"restart_clear_output\" title=\"Restart the Kernel and clear all output\">\n",
    "                            <a href=\"#\">Restart &amp; Clear Output</a>\n",
    "                        </li>\n",
    "                        <li id=\"restart_run_all\" title=\"Restart the Kernel and re-run the notebook\">\n",
    "                            <a href=\"#\">Restart &amp; Run All</a>\n",
    "                        </li>\n",
    "                        <li id=\"reconnect_kernel\" title=\"Reconnect to the Kernel\">\n",
    "                            <a href=\"#\">Reconnect</a>\n",
    "                        </li>\n",
    "                        <li id=\"shutdown_kernel\" title=\"Shutdown the Kernel\">\n",
    "                            <a href=\"#\">Shutdown</a>\n",
    "                        </li>\n",
    "                        <li class=\"divider\"></li>\n",
    "                        <li id=\"menu-change-kernel\" class=\"dropdown-submenu\">\n",
    "                            <a href=\"#\">Change kernel</a>\n",
    "                            <ul class=\"dropdown-menu\" id=\"menu-change-kernel-submenu\"><li id=\"kernel-submenu-julia-0.5\"><a href=\"#\">Julia 0.5.2</a></li><li id=\"kernel-submenu-python3\"><a href=\"#\">Python 3</a></li></ul>\n",
    "                        </li>\n",
    "                    </ul>\n",
    "                </li>\n",
    "                <li class=\"dropdown\"><a href=\"#\" data-toggle=\"dropdown\" class=\"dropdown-toggle\">Widgets</a><ul id=\"widget-submenu\" class=\"dropdown-menu\"><li title=\"Save the notebook with the widget state information for static rendering\"><a href=\"#\">Save Notebook with Widgets</a></li><li title=\"Download the widget state as a JSON file\"><a href=\"#\">Download Widget State</a></li><li title=\"Embed interactive widgets\"><a href=\"#\">Embed Widgets</a></li></ul></li><li class=\"dropdown\"><a href=\"#\" class=\"dropdown-toggle\" data-toggle=\"dropdown\">Help</a>\n",
    "                    <ul id=\"help_menu\" class=\"dropdown-menu\">\n",
    "                        \n",
    "                        <li id=\"notebook_tour\" title=\"A quick tour of the notebook user interface\"><a href=\"#\">User Interface Tour</a></li>\n",
    "                        <li id=\"keyboard_shortcuts\" title=\"Opens a dialog which shows all keyboard shortcuts\"><a href=\"#\">Keyboard Shortcuts</a></li>\n",
    "                        <li id=\"edit_keyboard_shortcuts\" title=\"Opens a dialog allowing you to edit Keyboard shortcuts\"><a href=\"#\">Edit Keyboard Shortcuts</a></li>\n",
    "                        <li class=\"divider\"></li>\n",
    "                        \n",
    "\n",
    "                        \n",
    "                            \n",
    "                                <li><a rel=\"noreferrer\" href=\"http://nbviewer.ipython.org/github/ipython/ipython/blob/3.x/examples/Notebook/Index.ipynb\" target=\"_blank\" title=\"Opens in a new window\">\n",
    "                                \n",
    "                                    <i class=\"fa fa-external-link menu-icon pull-right\"></i>\n",
    "                                \n",
    "\n",
    "                                Notebook Help\n",
    "                                </a></li>\n",
    "                            \n",
    "                                <li><a rel=\"noreferrer\" href=\"https://help.github.com/articles/markdown-basics/\" target=\"_blank\" title=\"Opens in a new window\">\n",
    "                                \n",
    "                                    <i class=\"fa fa-external-link menu-icon pull-right\"></i>\n",
    "                                \n",
    "\n",
    "                                Markdown\n",
    "                                </a></li>\n",
    "                            \n",
    "                            \n",
    "                        \n",
    "                        <li><a title=\"Jupyter_contrib_nbextensions documentation\" id=\"jupyter_contrib_nbextensions_help\" href=\"http://jupyter-contrib-nbextensions.readthedocs.io/en/latest/\" target=\"_blank\">Jupyter-contrib <br> nbextensions<i class=\"fa fa-external-link menu-icon pull-right\"></i></a></li><li id=\"kernel-help-links\" class=\"divider\"></li><li><a target=\"_blank\" title=\"Opens in a new window\" href=\"http://docs.python.org/3.6?v=20170814181126\"><i class=\"fa fa-external-link menu-icon pull-right\"></i><span>Python</span></a></li><li><a target=\"_blank\" title=\"Opens in a new window\" href=\"http://ipython.org/documentation.html?v=20170814181126\"><i class=\"fa fa-external-link menu-icon pull-right\"></i><span>IPython</span></a></li><li><a target=\"_blank\" title=\"Opens in a new window\" href=\"http://docs.scipy.org/doc/numpy/reference/?v=20170814181126\"><i class=\"fa fa-external-link menu-icon pull-right\"></i><span>NumPy</span></a></li><li><a target=\"_blank\" title=\"Opens in a new window\" href=\"http://docs.scipy.org/doc/scipy/reference/?v=20170814181126\"><i class=\"fa fa-external-link menu-icon pull-right\"></i><span>SciPy</span></a></li><li><a target=\"_blank\" title=\"Opens in a new window\" href=\"http://matplotlib.org/contents.html?v=20170814181126\"><i class=\"fa fa-external-link menu-icon pull-right\"></i><span>Matplotlib</span></a></li><li><a target=\"_blank\" title=\"Opens in a new window\" href=\"http://docs.sympy.org/latest/index.html?v=20170814181126\"><i class=\"fa fa-external-link menu-icon pull-right\"></i><span>SymPy</span></a></li><li><a target=\"_blank\" title=\"Opens in a new window\" href=\"http://pandas.pydata.org/pandas-docs/stable/?v=20170814181126\"><i class=\"fa fa-external-link menu-icon pull-right\"></i><span>pandas</span></a></li><li class=\"divider\"></li>\n",
    "                        <li title=\"About Jupyter Notebook\"><a id=\"notebook_about\" href=\"#\">About</a></li>\n",
    "                        \n",
    "                    </ul>\n",
    "                </li>\n",
    "              </ul>\n",
    "            </div>\n",
    "        </div>\n",
    "    </div>\n",
    "</div>\n",
    "\n",
    "<div id=\"maintoolbar\" class=\"navbar\">\n",
    "  <div class=\"toolbar-inner navbar-inner navbar-nobg\">\n",
    "    <div id=\"maintoolbar-container\" class=\"container toolbar\"><div class=\"btn-group\" id=\"save-notbook\"><button class=\"btn btn-default\" title=\"Save and Checkpoint\" data-jupyter-action=\"jupyter-notebook:save-notebook\"><i class=\"fa-save fa\"></i></button></div><div class=\"btn-group\" id=\"insert_above_below\"><button class=\"btn btn-default\" title=\"insert cell below\" data-jupyter-action=\"jupyter-notebook:insert-cell-below\"><i class=\"fa-plus fa\"></i></button></div><div class=\"btn-group\" id=\"cut_copy_paste\"><button class=\"btn btn-default\" title=\"cut selected cells\" data-jupyter-action=\"jupyter-notebook:cut-cell\"><i class=\"fa-cut fa\"></i></button><button class=\"btn btn-default\" title=\"copy selected cells\" data-jupyter-action=\"jupyter-notebook:copy-cell\"><i class=\"fa-copy fa\"></i></button><button class=\"btn btn-default\" title=\"paste cells below\" data-jupyter-action=\"jupyter-notebook:paste-cell-below\"><i class=\"fa-paste fa\"></i></button></div><div class=\"btn-group\" id=\"move_up_down\"><button class=\"btn btn-default\" title=\"move selected cells up\" data-jupyter-action=\"jupyter-notebook:move-cell-up\"><i class=\"fa-arrow-up fa\"></i></button><button class=\"btn btn-default\" title=\"move selected cells down\" data-jupyter-action=\"jupyter-notebook:move-cell-down\"><i class=\"fa-arrow-down fa\"></i></button></div><div class=\"btn-group\" id=\"run_int\"><button class=\"btn btn-default\" title=\"run cell, select below\" data-jupyter-action=\"jupyter-notebook:run-cell-and-select-next\"><i class=\"fa-step-forward fa\"></i></button><button class=\"btn btn-default\" title=\"interrupt kernel\" data-jupyter-action=\"jupyter-notebook:interrupt-kernel\"><i class=\"fa-stop fa\"></i></button><button class=\"btn btn-default\" title=\"restart the kernel (with dialog)\" data-jupyter-action=\"jupyter-notebook:confirm-restart-kernel\"><i class=\"fa-repeat fa\"></i></button></div><select id=\"cell_type\" class=\"form-control select-xs\"><option value=\"code\">Code</option><option value=\"markdown\">Markdown</option><option value=\"raw\">Raw NBConvert</option><option value=\"heading\">Heading</option><option value=\"multiselect\" disabled=\"disabled\" style=\"display: none;\">-</option></select><div class=\"btn-group\"><button class=\"btn btn-default\" title=\"open the command palette\" data-jupyter-action=\"jupyter-notebook:show-command-palette\"><i class=\"fa-keyboard-o fa\"></i></button></div><div class=\"btn-group\"><button class=\"btn btn-default\" title=\"Code formatting\" id=\"code_format_button\"><i class=\"fa-legal fa\"></i></button></div></div>\n",
    "  </div>\n",
    "</div>\n",
    "</div>\n",
    "\n",
    "<div class=\"lower-header-bar\"></div>\n",
    "\n",
    "</div>\n",
    "\n",
    "<div id=\"site\" style=\"height: 290px; display: block;\">\n",
    "\n",
    "\n",
    "<div id=\"ipython-main-app\">\n",
    "    <div id=\"notebook_panel\">\n",
    "        <div id=\"notebook\" tabindex=\"-1\"><div class=\"container\" id=\"notebook-container\"><div class=\"cell code_cell rendered selected\" tabindex=\"2\"><div class=\"input\"><div class=\"prompt input_prompt\"><bdi>In</bdi>&nbsp;[&nbsp;]:</div><div class=\"inner_cell\"><div class=\"ctb_hideshow\"><div class=\"celltoolbar\"></div></div><div class=\"input_area\"><div class=\"CodeMirror cm-s-ipython\"><div style=\"overflow: hidden; position: relative; width: 3px; height: 0px; top: 5.58594px; left: 5.58594px;\"><textarea autocorrect=\"off\" autocapitalize=\"off\" spellcheck=\"false\" tabindex=\"0\" style=\"position: absolute; bottom: -1em; padding: 0px; width: 1000px; height: 1em; outline: none;\"></textarea></div><div class=\"CodeMirror-vscrollbar\" cm-not-content=\"true\" style=\"width: 18px; pointer-events: none;\"><div style=\"min-width: 1px; height: 0px;\"></div></div><div class=\"CodeMirror-hscrollbar\" cm-not-content=\"true\" style=\"height: 18px; pointer-events: none;\"><div style=\"height: 100%; min-height: 1px; width: 0px;\"></div></div><div class=\"CodeMirror-scrollbar-filler\" cm-not-content=\"true\"></div><div class=\"CodeMirror-gutter-filler\" cm-not-content=\"true\"></div><div class=\"CodeMirror-scroll\" tabindex=\"-1\"><div class=\"CodeMirror-sizer\" style=\"margin-left: 0px; min-width: 3px; margin-bottom: 0px; border-right-width: 30px; min-height: 28px; padding-right: 0px; padding-bottom: 0px;\"><div style=\"position: relative; top: 0px;\"><div class=\"CodeMirror-lines\"><div style=\"position: relative; outline: none;\"><div class=\"CodeMirror-measure\"></div><div class=\"CodeMirror-measure\"></div><div style=\"position: relative; z-index: 1;\"></div><div class=\"CodeMirror-cursors\" style=\"visibility: hidden;\"><div class=\"CodeMirror-cursor\" style=\"left: 0px; top: 0px; height: 16.25px;\">&nbsp;</div></div><div class=\"CodeMirror-code\"><pre class=\" CodeMirror-line \"><span style=\"padding-right: 0.1px;\"><span cm-text=\"\">​</span></span></pre></div></div></div></div></div><div style=\"position: absolute; height: 30px; width: 1px; border-bottom: 0px solid transparent; top: 28px;\"></div><div class=\"CodeMirror-gutters\" style=\"display: none; height: 58px;\"></div></div></div></div></div></div><div class=\"widget-area connection-problems\" style=\"display: none;\"><div class=\"prompt\"><button class=\"close\">×</button></div><div class=\"widget-subarea jp-Output-result\"></div></div><div class=\"output_wrapper\"><div class=\"out_prompt_overlay prompt\" title=\"click to expand output; double click to hide output\" style=\"display: none;\"></div><div class=\"output\" style=\"display: none;\"></div><div class=\"btn btn-default output_collapsed\" title=\"click to expand output\" style=\"display: none;\">. . .</div></div></div></div><div class=\"end_space\"></div></div>\n",
    "        <div id=\"tooltip\" class=\"ipython_tooltip\" style=\"display:none\"><div class=\"tooltipbuttons\"><a href=\"#\" role=\"button\" class=\"ui-button\"><span class=\"ui-icon ui-icon-close\">Close</span></a><a href=\"#\" class=\"ui-corner-all\" role=\"button\" id=\"expanbutton\" title=\"Grow the tooltip vertically (press shift-tab twice)\"><span class=\"ui-icon ui-icon-plus\">Expand</span></a><a href=\"#\" role=\"button\" class=\"ui-button\" title=\"show the current docstring in pager (press shift-tab 4 times)\"><span class=\"ui-icon ui-icon-arrowstop-l-n\">Open in Pager</span></a><a href=\"#\" role=\"button\" class=\"ui-button\" title=\"Tooltip will linger for 10 seconds while you type\" style=\"display: none;\"><span class=\"ui-icon ui-icon-clock\">Close</span></a></div><div class=\"pretooltiparrow\"></div><div class=\"tooltiptext smalltooltip\"></div></div>\n",
    "    </div>\n",
    "</div>\n",
    "\n",
    "\n",
    "\n",
    "</div>\n",
    "\n",
    "\n",
    "\n",
    "<div id=\"pager\" class=\"ui-resizable\">\n",
    "    <div id=\"pager-contents\">\n",
    "        <div id=\"pager-container\" class=\"container\"></div>\n",
    "    </div>\n",
    "    <div id=\"pager-button-area\"><a role=\"button\" title=\"Open the pager in an external window\" class=\"ui-button\"><span class=\"ui-icon ui-icon-extlink\"></span></a><a role=\"button\" title=\"Close the pager\" class=\"ui-button\"><span class=\"ui-icon ui-icon-close\"></span></a></div>\n",
    "<div class=\"ui-resizable-handle ui-resizable-n\" style=\"z-index: 90;\"></div></div>\n",
    "\n",
    "\n",
    "\n",
    "\n",
    "\n",
    "\n",
    "<script type=\"text/javascript\">\n",
    "    sys_info = {\"notebook_version\": \"5.0.0\", \"notebook_path\": \"/Users/thomasj/anaconda/envs/geopandas_test_env/lib/python3.6/site-packages/notebook\", \"commit_source\": \"\", \"commit_hash\": \"\", \"sys_version\": \"3.6.1 | packaged by conda-forge | (default, May 23 2017, 14:31:56) \\n[GCC 4.2.1 Compatible Apple LLVM 6.1.0 (clang-602.0.53)]\", \"sys_executable\": \"/Users/thomasj/anaconda/envs/geopandas_test_env/bin/python\", \"sys_platform\": \"darwin\", \"platform\": \"Darwin-16.6.0-x86_64-i386-64bit\", \"os_name\": \"posix\", \"default_encoding\": \"UTF-8\"};\n",
    "</script>\n",
    "\n",
    "<script src=\"/static/components/text-encoding/lib/encoding.js?v=d5bb0fc9ffeff7d98a69bb83daa51052\" charset=\"utf-8\"></script>\n",
    "\n",
    "<script src=\"/static/notebook/js/main.min.js?v=6a166b31c5a20f809e44ec2d50e40412\" type=\"text/javascript\" charset=\"utf-8\"></script>\n",
    "\n",
    "\n",
    "\n",
    "<script type=\"text/javascript\">\n",
    "  function _remove_token_from_url() {\n",
    "    if (window.location.search.length <= 1) {\n",
    "      return;\n",
    "    }\n",
    "    var search_parameters = window.location.search.slice(1).split('&');\n",
    "    for (var i = 0; i < search_parameters.length; i++) {\n",
    "      if (search_parameters[i].split('=')[0] === 'token') {\n",
    "        // remote token from search parameters\n",
    "        search_parameters.splice(i, 1);\n",
    "        var new_search = '';\n",
    "        if (search_parameters.length) {\n",
    "          new_search = '?' + search_parameters.join('&');\n",
    "        }\n",
    "        var new_url = window.location.origin + \n",
    "                      window.location.pathname + \n",
    "                      new_search + \n",
    "                      window.location.hash;\n",
    "        window.history.replaceState({}, \"\", new_url);\n",
    "        return;\n",
    "      }\n",
    "    }\n",
    "  }\n",
    "  _remove_token_from_url();\n",
    "</script>\n",
    "\n",
    "\n",
    "<div style=\"position: absolute; width: 0px; height: 0px; overflow: hidden; padding: 0px; border: 0px; margin: 0px;\"><div id=\"MathJax_Font_Test\" style=\"position: absolute; visibility: hidden; top: 0px; left: 0px; width: auto; padding: 0px; border: 0px; margin: 0px; white-space: nowrap; text-align: left; text-indent: 0px; text-transform: none; line-height: normal; letter-spacing: normal; word-spacing: normal; font-size: 40px; font-weight: normal; font-style: normal;\"></div></div></body>"
   ]
  },
  {
   "cell_type": "markdown",
   "metadata": {},
   "source": [
    "<i class=\"fa-step-forward fa\"></i>"
   ]
  },
  {
   "cell_type": "markdown",
   "metadata": {},
   "source": [
    "<div class=\"CodeMirror-lines\"><div style=\"position: relative; outline: none;\"><div class=\"CodeMirror-measure\"></div><div class=\"CodeMirror-measure\"></div><div style=\"position: relative; z-index: 1;\"></div><div class=\"CodeMirror-cursors\" style=\"visibility: hidden;\"><div class=\"CodeMirror-cursor\" style=\"left: 180px; top: 0px; height: 16.25px;\">&nbsp;</div></div><div class=\"CodeMirror-code\"><pre class=\" CodeMirror-line \"><span style=\"padding-right: 0.1px;\"><span class=\"cm-variable\">variable</span> = <span class=\"cm-string\">\"hello, world\"</span></span></pre><pre class=\" CodeMirror-line \"><span style=\"padding-right: 0.1px;\"><span class=\"cm-builtin\">print</span>(<span class=\"cm-variable\">variable</span>)</span></pre></div></div></div>"
   ]
  },
  {
   "cell_type": "code",
   "execution_count": 122,
   "metadata": {},
   "outputs": [],
   "source": [
    "from fastcache import clru_cache\n",
    "from tempfile import mktemp\n",
    "from selenium import webdriver\n",
    "from matplotlib import image\n",
    "import matplotlib.pyplot as plt\n",
    "\n",
    "    \n",
    "@clru_cache(1024)\n",
    "def snap(url, *scripts):\n",
    "    \"\"\"takes screenshot of url after executing js\n",
    "    `url` : `str`\n",
    "        url of page to load\n",
    "    `script` : `list` or `str`\n",
    "        text of scripts to execute \n",
    "    \"\"\"\n",
    "    DRIVER = 'chromedriver'\n",
    "    driver = webdriver.Chrome(DRIVER)\n",
    "\n",
    "    driver.get(url)\n",
    "    \n",
    "\n",
    "    for script in scripts:\n",
    "        driver.execute_script(script)\n",
    "\n",
    "    temp_fname = mktemp('.png','screen_cap')\n",
    "    driver.get_screenshot_as_file(temp_fname)\n",
    "    driver.quit()\n",
    "    \n",
    "    im = image.imread(temp_fname)\n",
    "    \n",
    "    return im\n",
    "    \n",
    "\n",
    "def crop(image, ymin=None, ymax=None, xmin=None, xmax=None):\n",
    "    \"crops image, origin is top left corner\"\n",
    "    return image[ymin:ymax, xmin:xmax]\n",
    "\n",
    "\n",
    "def save(image, fname):\n",
    "    \"saves image\"\n",
    "    plt.imsave(fname, image)\n",
    "\n",
    "    \n",
    "login_script=\"\"\"\n",
    "var input = document.getElementById('password_input');\n",
    "input.value='run';\n",
    "document.forms[0].submit();\n",
    "\"\"\"\n",
    "\n",
    "edit_script=\"\"\"\n",
    "var elem = document.getElementsByClassName('notebook_app')[0];\n",
    "elem.classList.remove('command_mode');\n",
    "elem.classList.add('edit_mode');\n",
    "\n",
    "document.getElementsByClassName('cell code_cell rendered')[0].classList.add('selected');\n",
    "document.getElementsByClassName('CodeMirror cm-s-ipython')[0].classList.add('CodeMirror-focused');\n",
    "\"\"\"\n",
    "\n",
    "url = 'http://localhost:8890/tree/Untitled1.ipynb'\n",
    "\n",
    "img = snap(url, login_script)\n",
    "\n",
    "save(crop(img, ymin=175, ymax=300, xmin=None, xmax=None), 'command_mode_cropped.png')\n",
    "save(crop(img, ymin=0, ymax=125, xmin=None, xmax=None), 'menu_cropped.png')\n",
    "save(crop(img, ymin=75, ymax=125, xmin=560, xmax=615), 'step_forward_cropped.png')\n",
    "save(crop(img, ymin=75, ymax=125, xmin=175, xmax=240), 'add_cell_cropped.png')\n",
    "save(crop(img, ymin=0, ymax=300, xmin=None, xmax=None), 'basic_notebook_cropped.png')\n",
    "\n",
    "\n",
    "img2 = snap('http://localhost:8890/tree/Untitled2.ipynb', login_script) # down key press is not that simple in js, so set up a separate nb\n",
    "save(crop(img2, ymin=175, ymax=400, xmin=None, xmax=None), 'execution_cropped.png')\n",
    "\n",
    "img3 = snap(url, login_script, edit_script)\n",
    "save(crop(img3, ymin=175, ymax=300, xmin=None, xmax=None), 'edit_mode_cropped.png')\n"
   ]
  },
  {
   "cell_type": "code",
   "execution_count": 124,
   "metadata": {},
   "outputs": [
    {
     "data": {
      "text/plain": [
       "<matplotlib.image.AxesImage at 0x13273f390>"
      ]
     },
     "execution_count": 124,
     "metadata": {},
     "output_type": "execute_result"
    },
    {
     "data": {
      "image/png": "[encoded data removed]",
      "text/plain": [
       "<matplotlib.figure.Figure at 0x13262af60>"
      ]
     },
     "metadata": {},
     "output_type": "display_data"
    }
   ],
   "source": [
    "plt.figure(figsize=(15,10))\n",
    "plt.imshow(image.imread('command_mode_cropped.png'))"
   ]
  },
  {
   "cell_type": "code",
   "execution_count": 127,
   "metadata": {},
   "outputs": [],
   "source": [
    "save(crop(img, ymin=0, ymax=300, xmin=None, xmax=None), 'basic_notebook_cropped.png')"
   ]
  },
  {
   "cell_type": "code",
   "execution_count": 130,
   "metadata": {},
   "outputs": [
    {
     "data": {
      "text/plain": [
       "<matplotlib.image.AxesImage at 0x136ff5358>"
      ]
     },
     "execution_count": 130,
     "metadata": {},
     "output_type": "execute_result"
    },
    {
     "data": {
      "image/png": "[encoded data removed]",
      "text/plain": [
       "<matplotlib.figure.Figure at 0x1344d8c88>"
      ]
     },
     "metadata": {},
     "output_type": "display_data"
    }
   ],
   "source": [
    "plt.figure(figsize=(15,10))\n",
    "plt.imshow(img[50:75,])"
   ]
  },
  {
   "cell_type": "code",
   "execution_count": 71,
   "metadata": {},
   "outputs": [
    {
     "ename": "TypeError",
     "evalue": "get_screenshot_as_file() missing 1 required positional argument: 'filename'",
     "output_type": "error",
     "traceback": [
      "\u001b[0;31m---------------------------------------------------------------------------\u001b[0m",
      "\u001b[0;31mTypeError\u001b[0m                                 Traceback (most recent call last)",
      "\u001b[0;32m<ipython-input-71-e188c575fad8>\u001b[0m in \u001b[0;36m<module>\u001b[0;34m()\u001b[0m\n\u001b[1;32m      4\u001b[0m \u001b[0mdriver\u001b[0m\u001b[0;34m.\u001b[0m\u001b[0mget\u001b[0m\u001b[0;34m(\u001b[0m\u001b[0;34m'http://google.com'\u001b[0m\u001b[0;34m)\u001b[0m\u001b[0;34m\u001b[0m\u001b[0m\n\u001b[1;32m      5\u001b[0m \u001b[0mim_str\u001b[0m \u001b[0;34m=\u001b[0m \u001b[0mdriver\u001b[0m\u001b[0;34m.\u001b[0m\u001b[0mget_screenshot_as_png\u001b[0m\u001b[0;34m(\u001b[0m\u001b[0;34m)\u001b[0m\u001b[0;34m\u001b[0m\u001b[0m\n\u001b[0;32m----> 6\u001b[0;31m \u001b[0mim_file\u001b[0m \u001b[0;34m=\u001b[0m \u001b[0mdriver\u001b[0m\u001b[0;34m.\u001b[0m\u001b[0mget_screenshot_as_file\u001b[0m\u001b[0;34m(\u001b[0m\u001b[0;34m)\u001b[0m\u001b[0;34m\u001b[0m\u001b[0m\n\u001b[0m",
      "\u001b[0;31mTypeError\u001b[0m: get_screenshot_as_file() missing 1 required positional argument: 'filename'"
     ]
    }
   ],
   "source": [
    "DRIVER = 'chromedriver'\n",
    "driver = webdriver.Chrome(DRIVER)\n",
    "\n",
    "driver.get('http://google.com')\n",
    "im_str = driver.get_screenshot_as_png()\n",
    "\n"
   ]
  },
  {
   "cell_type": "code",
   "execution_count": 73,
   "metadata": {},
   "outputs": [
    {
     "data": {
      "text/plain": [
       "numpy.ndarray"
      ]
     },
     "execution_count": 73,
     "metadata": {},
     "output_type": "execute_result"
    }
   ],
   "source": [
    "type(im)"
   ]
  },
  {
   "cell_type": "code",
   "execution_count": null,
   "metadata": {
    "collapsed": true
   },
   "outputs": [],
   "source": [
    "from selenium import webdriver\n",
    "from matplotlib import image\n",
    "import matplotlib.pyplot as plt\n",
    "\n",
    "DRIVER = 'chromedriver'\n",
    "driver = webdriver.Chrome(DRIVER)\n",
    "\n",
    "def snapshot(url, script, out_file):\n",
    "    DRIVER = 'chromedriver'\n",
    "    driver = webdriver.Chrome(DRIVER)\n",
    "\n",
    "    driver.get(url)\n",
    "    driver.execute_script(script)\n",
    "    \n",
    "    screenshot = driver.save_screenshot('command_mode.png')\n",
    "    im=image.imread('edit_mode.png')\n",
    "    plt.imsave('command_mode_cropped.png', im[150:400,:])"
   ]
  },
  {
   "cell_type": "code",
   "execution_count": 65,
   "metadata": {
    "collapsed": true
   },
   "outputs": [
    {
     "data": {
      "text/plain": [
       "array([[[ 1.,  1.,  1.,  1.],\n",
       "        [ 1.,  1.,  1.,  1.],\n",
       "        [ 1.,  1.,  1.,  1.],\n",
       "        ..., \n",
       "        [ 1.,  1.,  1.,  1.],\n",
       "        [ 1.,  1.,  1.,  1.],\n",
       "        [ 1.,  1.,  1.,  1.]],\n",
       "\n",
       "       [[ 1.,  1.,  1.,  1.],\n",
       "        [ 1.,  1.,  1.,  1.],\n",
       "        [ 1.,  1.,  1.,  1.],\n",
       "        ..., \n",
       "        [ 1.,  1.,  1.,  1.],\n",
       "        [ 1.,  1.,  1.,  1.],\n",
       "        [ 1.,  1.,  1.,  1.]],\n",
       "\n",
       "       [[ 1.,  1.,  1.,  1.],\n",
       "        [ 1.,  1.,  1.,  1.],\n",
       "        [ 1.,  1.,  1.,  1.],\n",
       "        ..., \n",
       "        [ 1.,  1.,  1.,  1.],\n",
       "        [ 1.,  1.,  1.,  1.],\n",
       "        [ 1.,  1.,  1.,  1.]],\n",
       "\n",
       "       ..., \n",
       "       [[ 1.,  1.,  1.,  1.],\n",
       "        [ 1.,  1.,  1.,  1.],\n",
       "        [ 1.,  1.,  1.,  1.],\n",
       "        ..., \n",
       "        [ 1.,  1.,  1.,  1.],\n",
       "        [ 1.,  1.,  1.,  1.],\n",
       "        [ 1.,  1.,  1.,  1.]],\n",
       "\n",
       "       [[ 1.,  1.,  1.,  1.],\n",
       "        [ 1.,  1.,  1.,  1.],\n",
       "        [ 1.,  1.,  1.,  1.],\n",
       "        ..., \n",
       "        [ 1.,  1.,  1.,  1.],\n",
       "        [ 1.,  1.,  1.,  1.],\n",
       "        [ 1.,  1.,  1.,  1.]],\n",
       "\n",
       "       [[ 1.,  1.,  1.,  1.],\n",
       "        [ 1.,  1.,  1.,  1.],\n",
       "        [ 1.,  1.,  1.,  1.],\n",
       "        ..., \n",
       "        [ 1.,  1.,  1.,  1.],\n",
       "        [ 1.,  1.,  1.,  1.],\n",
       "        [ 1.,  1.,  1.,  1.]]], dtype=float32)"
      ]
     },
     "execution_count": 65,
     "metadata": {},
     "output_type": "execute_result"
    }
   ],
   "source": [
    "im[1:100, 1:None]"
   ]
  },
  {
   "cell_type": "code",
   "execution_count": 62,
   "metadata": {},
   "outputs": [
    {
     "name": "stdout",
     "output_type": "stream",
     "text": [
      "1\n"
     ]
    }
   ],
   "source": [
    "print(1)"
   ]
  },
  {
   "cell_type": "code",
   "execution_count": null,
   "metadata": {
    "collapsed": true
   },
   "outputs": [],
   "source": [
    "screenshot"
   ]
  },
  {
   "cell_type": "code",
   "execution_count": 36,
   "metadata": {},
   "outputs": [
    {
     "data": {
      "image/png": "[encoded data removed]",
      "text/plain": [
       "<matplotlib.figure.Figure at 0x12d52b780>"
      ]
     },
     "metadata": {},
     "output_type": "display_data"
    }
   ],
   "source": [
    "from selenium import webdriver\n",
    "from matplotlib import image\n",
    "import matplotlib.pyplot as plt\n",
    "\n",
    "\n",
    "\n",
    "driver.get('http://localhost:8890/tree/Untitled1.ipynb')\n",
    "\n",
    "script=\"\"\"\n",
    "var input = document.getElementById('password_input');\n",
    "input.value='run';\n",
    "document.forms[0].submit();\n",
    "\"\"\"\n",
    "driver.execute_script(script)\n",
    "\n",
    "screenshot = driver.save_screenshot('command_mode.png')\n",
    "\n",
    "im=image.imread('edit_mode.png')\n",
    "plt.imsave('command_mode_cropped.png', im[150:400,:])\n",
    "\n",
    "\n",
    "screenshot = driver.save_screenshot('menu.png')\n",
    "\n",
    "im=image.imread('menu.png')\n",
    "plt.imsave('menu_cropped.png', im[0:125,:])\n",
    "\n",
    "\n",
    "screenshot = driver.save_screenshot('step_forward.png')\n",
    "\n",
    "im=image.imread('step_forward.png')\n",
    "plt.imsave('step_forward_cropped.png', im[75:125,560:615])\n",
    "\n",
    "\n",
    "screenshot = driver.save_screenshot('add_cell.png')\n",
    "\n",
    "im=image.imread('add_cell.png')\n",
    "plt.imsave('add_cell_cropped.png', im[75:125,175:240])\n",
    "\n",
    "\n",
    "script=\"\"\"\n",
    "\n",
    "var lst = document.getElementsByClassName('notebook_app');\n",
    "lst[0].classList.remove('command_mode');\n",
    "lst[0].classList.add('edit_mode');\n",
    "\n",
    "var lst = document.getElementsByClassName('cell code_cell rendered');\n",
    "lst[0].classList.add('selected');\n",
    "\n",
    "var lst = document.getElementsByClassName('CodeMirror cm-s-ipython');\n",
    "lst[0].classList.add('CodeMirror-focused');\n",
    "\"\"\"\n",
    "driver.execute_script(script)\n",
    "screenshot = driver.save_screenshot('edit_mode.png')\n",
    "\n",
    "im=image.imread('edit_mode.png')\n",
    "plt.imsave('edit_mode_cropped.png', im[150:400,:])\n",
    "\n",
    "\n",
    "driver.quit()"
   ]
  },
  {
   "cell_type": "code",
   "execution_count": 61,
   "metadata": {},
   "outputs": [
    {
     "data": {
      "text/plain": [
       "<matplotlib.image.AxesImage at 0x12ef657f0>"
      ]
     },
     "execution_count": 61,
     "metadata": {},
     "output_type": "execute_result"
    },
    {
     "data": {
      "image/png": "[encoded data removed]",
      "text/plain": [
       "<matplotlib.figure.Figure at 0x12ef75048>"
      ]
     },
     "metadata": {},
     "output_type": "display_data"
    }
   ],
   "source": [
    "%matplotlib inline \n",
    "from matplotlib import image\n",
    "import matplotlib.pyplot as plt\n",
    "plt.figure(figsize=(15,15))\n",
    "\n",
    "im=image.imread('step_forward.png')\n",
    "plt.imshow(im[75:125,560:615])\n",
    "\n",
    "\n",
    "plt.imshow(im[75:125,175:240])\n",
    "\n",
    "\n"
   ]
  },
  {
   "cell_type": "code",
   "execution_count": 34,
   "metadata": {
    "collapsed": true
   },
   "outputs": [],
   "source": [
    "\n",
    "plt.imsave?"
   ]
  },
  {
   "cell_type": "code",
   "execution_count": null,
   "metadata": {
    "collapsed": true
   },
   "outputs": [],
   "source": []
  }
 ],
 "metadata": {
  "kernelspec": {
   "display_name": "Python 3",
   "language": "python",
   "name": "python3"
  },
  "language_info": {
   "codemirror_mode": {
    "name": "ipython",
    "version": 3
   },
   "file_extension": ".py",
   "mimetype": "text/x-python",
   "name": "python",
   "nbconvert_exporter": "python",
   "pygments_lexer": "ipython3",
   "version": "3.6.1"
  }
 },
 "nbformat": 4,
 "nbformat_minor": 2
}
