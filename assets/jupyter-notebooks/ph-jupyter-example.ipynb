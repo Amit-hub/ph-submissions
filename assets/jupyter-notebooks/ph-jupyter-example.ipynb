{
 "cells": [
  {
   "cell_type": "markdown",
   "metadata": {
    "slideshow": {
     "slide_type": "slide"
    }
   },
   "source": [
    "# Programming Historian Jupyter Notebook lesson\n",
    "\n",
    "This is the example notebook for the *Programming Historian* lesson on Jupyter Notebooks. This text is in the first cell of the notebook. Because it contains human-readable text, it's a Markdown cell. \n",
    "\n",
    "- To learn more about Markdown, check out the [Getting Started with Markdown](https://programminghistorian.org/en/lessons/getting-started-with-markdown) lesson on *Programming Historian*.\n",
    "- To edit this cell, double-click on it, or click on it and press Enter (Windows) or Return (Mac).\n",
    "- To leave edit mode, click <i class=\"fa-step-forward fa\"></i> in the toolbar or press Ctrl+Enter (Cmd+Return on Mac).\n",
    "<div class=\"alert alert-block alert-info\">\n",
    "    <strong>Exercise 1: </strong> Edit this cell to add another bullet point.</div>"
   ]
  },
  {
   "cell_type": "code",
   "execution_count": null,
   "metadata": {
    "slideshow": {
     "slide_type": "subslide"
    }
   },
   "outputs": [],
   "source": [
    "#Prints the text: Hello, world!\n",
    "print('Hello, world!')"
   ]
  },
  {
   "cell_type": "markdown",
   "metadata": {},
   "source": [
    "<div class=\"alert alert-block alert-info\">\n",
    "    <strong>Exercise 2: </strong> Run the code cell above. Edit it to replace \"world\" with your name and run it again.</div>"
   ]
  },
  {
   "cell_type": "markdown",
   "metadata": {},
   "source": [
    "<div class=\"alert alert-block alert-info\">\n",
    "    <strong>Exercise 3: </strong> Add a code cell with the following Python code for generating a random number between 1 and 10:<br />\n",
    "<code>import random\n",
    "print(random.randint(1, 10))</code><br />\n",
    "        Move it above the \"Hello, world!\" cell.</div>"
   ]
  },
  {
   "cell_type": "markdown",
   "metadata": {
    "slideshow": {
     "slide_type": "slide"
    }
   },
   "source": [
    "![Bulgarian folk embroidery](https://live.staticflickr.com/3889/14577104680_a564784a95_z.jpg)\n",
    "Image from page 42 of \"Bulgarski narodni shevitsi\" (1913) [on Flickr](https://www.flickr.com/photos/internetarchivebookimages/14577104680/).\n",
    "\n",
    "<div class=\"alert alert-block alert-info\">\n",
    "    <strong>Exercise 4: </strong> Replace the image and citation above with an image of your choice.</div>"
   ]
  },
  {
   "cell_type": "markdown",
   "metadata": {},
   "source": [
    "<div class=\"alert alert-block alert-info\">\n",
    "    <strong>Exercise 5: </strong> Run the code cell below to install the convertdate package using pip. If you get an error message about pip not being available, install it first using the Anaconda Navigator GUI or by running <code>conda install pip</code> from the command line. If you already have the convertdate package installed, you'll see a \"Requirement already satisfied\" message.</div>"
   ]
  },
  {
   "cell_type": "code",
   "execution_count": null,
   "metadata": {
    "slideshow": {
     "slide_type": "slide"
    }
   },
   "outputs": [],
   "source": [
    "import sys\n",
    "!{sys.executable} -m pip install convertdate"
   ]
  },
  {
   "cell_type": "markdown",
   "metadata": {},
   "source": [
    "## "
   ]
  }
 ],
 "metadata": {
  "kernelspec": {
   "display_name": "Python 3",
   "language": "python",
   "name": "python3"
  },
  "language_info": {
   "codemirror_mode": {
    "name": "ipython",
    "version": 3
   },
   "file_extension": ".py",
   "mimetype": "text/x-python",
   "name": "python",
   "nbconvert_exporter": "python",
   "pygments_lexer": "ipython3",
   "version": "3.6.7"
  }
 },
 "nbformat": 4,
 "nbformat_minor": 2
}
