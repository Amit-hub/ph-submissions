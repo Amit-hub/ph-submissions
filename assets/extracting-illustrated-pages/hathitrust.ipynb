{
 "cells": [
  {
   "cell_type": "markdown",
   "metadata": {},
   "source": [
    "# Setup\n",
    "\n",
    "First, we import the library. Then, we grab the API tokens from our `keys.py` file (not in Git!)."
   ]
  },
  {
   "cell_type": "code",
   "execution_count": 9,
   "metadata": {
    "scrolled": true
   },
   "outputs": [],
   "source": [
    "from hathitrust_api import DataAPI\n",
    "import json\n",
    "from keys import ht_keys\n",
    "import os\n",
    "import time"
   ]
  },
  {
   "cell_type": "code",
   "execution_count": 10,
   "metadata": {},
   "outputs": [],
   "source": [
    "data_api = DataAPI(ht_keys['access'], ht_keys['secret'])"
   ]
  },
  {
   "cell_type": "code",
   "execution_count": 11,
   "metadata": {},
   "outputs": [],
   "source": [
    "metadata_path = \"554050894-1535834127.json\""
   ]
  },
  {
   "cell_type": "code",
   "execution_count": 12,
   "metadata": {},
   "outputs": [
    {
     "data": {
      "text/plain": [
       "dict_keys(['id', 'type', 'description', 'created', 'extent', 'formats', 'publisher', 'title', 'visibility', 'gathers'])"
      ]
     },
     "execution_count": 12,
     "metadata": {},
     "output_type": "execute_result"
    }
   ],
   "source": [
    "with open(metadata_path, \"r\") as fp:\n",
    "    data = json.load(fp)\n",
    "    \n",
    "data.keys()"
   ]
  },
  {
   "cell_type": "code",
   "execution_count": 13,
   "metadata": {},
   "outputs": [
    {
     "data": {
      "text/plain": [
       "[{'title': 'The tales of Peter Parley about America. ',\n",
       "  'author': 'Goodrich, Samuel G. 1793-1860.',\n",
       "  'date': '1827-00-00',\n",
       "  'rights': 'pd',\n",
       "  'oclc': ['39945876'],\n",
       "  'lccn': None,\n",
       "  'isbn': None,\n",
       "  'catalog_url': 'https://catalog.hathitrust.org/Record/100221263',\n",
       "  'htitem_id': 'osu.32435078698222'},\n",
       " {'title': 'The tales of Peter Parley about America. ',\n",
       "  'author': 'Goodrich, Samuel G. 1793-1860.',\n",
       "  'date': '1830-00-00',\n",
       "  'rights': 'pd',\n",
       "  'oclc': ['4358983'],\n",
       "  'lccn': None,\n",
       "  'isbn': None,\n",
       "  'catalog_url': 'https://catalog.hathitrust.org/Record/009719143',\n",
       "  'htitem_id': 'hvd.32044021161005'}]"
      ]
     },
     "execution_count": 13,
     "metadata": {},
     "output_type": "execute_result"
    }
   ],
   "source": [
    "data['gathers']"
   ]
  },
  {
   "cell_type": "code",
   "execution_count": 14,
   "metadata": {},
   "outputs": [
    {
     "data": {
      "text/plain": [
       "['osu.32435078698222', 'hvd.32044021161005']"
      ]
     },
     "execution_count": 14,
     "metadata": {},
     "output_type": "execute_result"
    }
   ],
   "source": [
    "vol_ids = [item['htitem_id'] for item in data['gathers']]\n",
    "vol_ids"
   ]
  },
  {
   "cell_type": "code",
   "execution_count": null,
   "metadata": {},
   "outputs": [],
   "source": [
    "def ht_download(item_id, out_dir=None):\n",
    "    \"\"\"\n",
    "    :param item_id: unique HathiTrust volume identifier\n",
    "    :param out_dir: destination for images; if None, no download\n",
    "    \n",
    "    Note: if supplied, out_dir must be an existing directory and\n",
    "    the caller must have write permissions in that directory\n",
    "    \n",
    "    :rtype list of pages with IMAGE_ON_PAGE feature\n",
    "    \"\"\"\n",
    "    \n",
    "    # metadata from API in json format (different than HT collection metadata)\n",
    "    meta = json.loads(data_api.getmeta(item_id, json=True))\n",
    "\n",
    "    # sequence gets us each page of the PDF in order, with any\n",
    "    # additional information that might be available for it\n",
    "    sequence = meta['htd:seqmap'][0]['htd:seq']\n",
    "\n",
    "    # list comprehension finds pages with given feature\n",
    "    # try/except block handles situation where no \"pfeats\" exist OR\n",
    "    # the values are not numeric\n",
    "    try:\n",
    "        img_pages = [int(page['pseq']) for page in sequence if 'IMAGE_ON_PAGE' in page['htd:pfeat']]\n",
    "    except TypeError:\n",
    "        img_pages = []\n",
    "        \n",
    "    # track for download progress report\n",
    "    total_pages = len(img_pages)\n",
    "\n",
    "    # if out_dir is not None, then also download page images\n",
    "    if out_dir:\n",
    "        \n",
    "         # return if folder already exists (reasonable inference that volume already processed)\n",
    "        if os.path.isdir(out_dir):\n",
    "            print(\"[{}] Directory already exists.\".format(item_id))\n",
    "            return img_pages\n",
    "\n",
    "        # otherwise, create folder to put the images\n",
    "        print(\"[{}] Making directory {}\".format(item_id, out_dir))\n",
    "        os.makedirs(out_dir)\n",
    "        \n",
    "        for i, page in enumerate(img_pages):\n",
    "            try:\n",
    "                print(\"[{}] Downloading page {} ({}/{})\".format(item_id, page, i+1, total_pages))\n",
    "                img = data_api.getpageimage(item_id, page)\n",
    "            \n",
    "                # just store in CWD\n",
    "                img_out = os.path.join(out_dir, str(page) + \".jpg\")\n",
    "    \n",
    "                # write out the image\n",
    "                with open(img_out, 'wb') as fp:\n",
    "                    fp.write(img)\n",
    "\n",
    "                # per conversation with Ryan Dubnicek @ HathiTrust\n",
    "                # avoid API throttling...\n",
    "                time.sleep(2)\n",
    "\n",
    "            except Exception as e:\n",
    "                print(\"[{}] Error downloading page {}: {}\".format(item_id, page,e))\n",
    "                \n",
    "    # return the list of image pages\n",
    "    return img_pages"
   ]
  },
  {
   "cell_type": "code",
   "execution_count": null,
   "metadata": {},
   "outputs": [
    {
     "name": "stdout",
     "output_type": "stream",
     "text": [
      "[items\\hathitrust\\osu.32435078698222] Making directory\n",
      "[osu.32435078698222] Downloading page 8 (1/31)\n",
      "[osu.32435078698222] Downloading page 10 (2/31)\n",
      "[osu.32435078698222] Downloading page 11 (3/31)\n",
      "[osu.32435078698222] Downloading page 12 (4/31)\n",
      "[osu.32435078698222] Downloading page 13 (5/31)\n",
      "[osu.32435078698222] Downloading page 16 (6/31)\n",
      "[osu.32435078698222] Downloading page 20 (7/31)\n",
      "[osu.32435078698222] Downloading page 26 (8/31)\n",
      "[osu.32435078698222] Downloading page 28 (9/31)\n",
      "[osu.32435078698222] Downloading page 29 (10/31)\n",
      "[osu.32435078698222] Downloading page 37 (11/31)\n",
      "[osu.32435078698222] Downloading page 38 (12/31)\n",
      "[osu.32435078698222] Downloading page 41 (13/31)\n",
      "[osu.32435078698222] Downloading page 44 (14/31)\n",
      "[osu.32435078698222] Downloading page 46 (15/31)\n",
      "[osu.32435078698222] Downloading page 47 (16/31)\n",
      "[osu.32435078698222] Downloading page 48 (17/31)\n",
      "[osu.32435078698222] Downloading page 49 (18/31)\n",
      "[osu.32435078698222] Downloading page 50 (19/31)\n",
      "[osu.32435078698222] Downloading page 54 (20/31)\n",
      "[osu.32435078698222] Downloading page 57 (21/31)\n",
      "[osu.32435078698222] Downloading page 58 (22/31)\n",
      "[osu.32435078698222] Downloading page 61 (23/31)\n",
      "[osu.32435078698222] Downloading page 65 (24/31)\n",
      "[osu.32435078698222] Downloading page 70 (25/31)\n",
      "[osu.32435078698222] Downloading page 74 (26/31)\n",
      "[osu.32435078698222] Downloading page 84 (27/31)\n",
      "[osu.32435078698222] Downloading page 94 (28/31)\n",
      "[osu.32435078698222] Downloading page 100 (29/31)\n",
      "[osu.32435078698222] Downloading page 105 (30/31)\n",
      "[osu.32435078698222] Downloading page 119 (31/31)\n",
      "osu.32435078698222 [8, 10, 11, 12, 13, 16, 20, 26, 28, 29, 37, 38, 41, 44, 46, 47, 48, 49, 50, 54, 57, 58, 61, 65, 70, 74, 84, 94, 100, 105, 119]\n",
      "[items\\hathitrust\\hvd.32044021161005] Making directory\n",
      "[hvd.32044021161005] Downloading page 1 (1/40)\n",
      "[hvd.32044021161005] Downloading page 2 (2/40)\n",
      "[hvd.32044021161005] Downloading page 7 (3/40)\n",
      "[hvd.32044021161005] Downloading page 14 (4/40)\n",
      "[hvd.32044021161005] Downloading page 16 (5/40)\n",
      "[hvd.32044021161005] Downloading page 17 (6/40)\n",
      "[hvd.32044021161005] Downloading page 18 (7/40)\n",
      "[hvd.32044021161005] Downloading page 19 (8/40)\n",
      "[hvd.32044021161005] Downloading page 22 (9/40)\n",
      "[hvd.32044021161005] Downloading page 27 (10/40)\n",
      "[hvd.32044021161005] Downloading page 33 (11/40)\n",
      "[hvd.32044021161005] Downloading page 35 (12/40)\n",
      "[hvd.32044021161005] Downloading page 37 (13/40)\n",
      "[hvd.32044021161005] Downloading page 44 (14/40)\n",
      "[hvd.32044021161005] Downloading page 45 (15/40)\n",
      "[hvd.32044021161005] Downloading page 46 (16/40)\n",
      "[hvd.32044021161005] Downloading page 47 (17/40)\n",
      "[hvd.32044021161005] Downloading page 48 (18/40)\n",
      "[hvd.32044021161005] Downloading page 49 (19/40)\n",
      "[hvd.32044021161005] Downloading page 52 (20/40)\n",
      "[hvd.32044021161005] Downloading page 55 (21/40)\n"
     ]
    }
   ],
   "source": [
    "for item_id in vol_ids:\n",
    "    print(item_id, ht_download(item_id, out_dir=os.path.join(\"items\", \"hathitrust\", item_id)))"
   ]
  },
  {
   "cell_type": "code",
   "execution_count": null,
   "metadata": {},
   "outputs": [],
   "source": []
  }
 ],
 "metadata": {
  "kernelspec": {
   "display_name": "Python 3",
   "language": "python",
   "name": "python3"
  },
  "language_info": {
   "codemirror_mode": {
    "name": "ipython",
    "version": 3
   },
   "file_extension": ".py",
   "mimetype": "text/x-python",
   "name": "python",
   "nbconvert_exporter": "python",
   "pygments_lexer": "ipython3",
   "version": "3.6.6"
  }
 },
 "nbformat": 4,
 "nbformat_minor": 2
}
