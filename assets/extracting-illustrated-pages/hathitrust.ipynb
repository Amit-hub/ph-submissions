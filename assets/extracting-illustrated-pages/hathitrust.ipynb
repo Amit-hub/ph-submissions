{
 "cells": [
  {
   "cell_type": "code",
   "execution_count": 12,
   "metadata": {},
   "outputs": [],
   "source": [
    "# Import the HT Data API wrapper\n",
    "from hathitrust_api import DataAPI\n",
    "\n",
    "# Replace placeholder strings with your HT credentials (leaving the quote marks)\n",
    "ht_access_key = \"YOUR_ACCESS_KEY_HERE\"\n",
    "ht_secret_key = \"YOUR_SECRET_KEY_HERE\"\n",
    "\n",
    "# instantiate the Data API connection object\n",
    "data_api = DataAPI(ht_access_key, ht_secret_key)"
   ]
  },
  {
   "cell_type": "code",
   "execution_count": 2,
   "metadata": {
    "scrolled": true
   },
   "outputs": [],
   "source": [
    "# assorted imports from Python standard library\n",
    "import json\n",
    "import os\n",
    "import time"
   ]
  },
  {
   "cell_type": "code",
   "execution_count": 3,
   "metadata": {},
   "outputs": [],
   "source": [
    "# JSON metadata file downloaded from HT\n",
    "metadata_path = \"554050894-1535834127.json\""
   ]
  },
  {
   "cell_type": "code",
   "execution_count": 4,
   "metadata": {},
   "outputs": [
    {
     "data": {
      "text/plain": [
       "dict_keys(['id', 'type', 'description', 'created', 'extent', 'formats', 'publisher', 'title', 'visibility', 'gathers'])"
      ]
     },
     "execution_count": 4,
     "metadata": {},
     "output_type": "execute_result"
    }
   ],
   "source": [
    "# the preferred syntax for opening/closing files in Python\n",
    "with open(metadata_path, \"r\") as fp:\n",
    "    data = json.load(fp)\n",
    "\n",
    "# the last line in a cell is always excuted and its return value displayed\n",
    "data.keys()"
   ]
  },
  {
   "cell_type": "code",
   "execution_count": 5,
   "metadata": {},
   "outputs": [
    {
     "data": {
      "text/plain": [
       "[{'title': 'The tales of Peter Parley about America. ',\n",
       "  'author': 'Goodrich, Samuel G. 1793-1860.',\n",
       "  'date': '1827-00-00',\n",
       "  'rights': 'pd',\n",
       "  'oclc': ['39945876'],\n",
       "  'lccn': None,\n",
       "  'isbn': None,\n",
       "  'catalog_url': 'https://catalog.hathitrust.org/Record/100221263',\n",
       "  'htitem_id': 'osu.32435078698222'},\n",
       " {'title': 'The tales of Peter Parley about America. ',\n",
       "  'author': 'Goodrich, Samuel G. 1793-1860.',\n",
       "  'date': '1830-00-00',\n",
       "  'rights': 'pd',\n",
       "  'oclc': ['4358983'],\n",
       "  'lccn': None,\n",
       "  'isbn': None,\n",
       "  'catalog_url': 'https://catalog.hathitrust.org/Record/009719143',\n",
       "  'htitem_id': 'hvd.32044021161005'}]"
      ]
     },
     "execution_count": 5,
     "metadata": {},
     "output_type": "execute_result"
    }
   ],
   "source": [
    "# the gathers field is what actually contains the list of volumes in the collection\n",
    "data['gathers']"
   ]
  },
  {
   "cell_type": "code",
   "execution_count": 13,
   "metadata": {},
   "outputs": [
    {
     "data": {
      "text/plain": [
       "['osu.32435078698222', 'hvd.32044021161005']"
      ]
     },
     "execution_count": 13,
     "metadata": {},
     "output_type": "execute_result"
    }
   ],
   "source": [
    "# list comprehension to get only the volume ids\n",
    "vol_ids = [item['htitem_id'] for item in data['gathers']]\n",
    "vol_ids"
   ]
  },
  {
   "cell_type": "code",
   "execution_count": 18,
   "metadata": {},
   "outputs": [],
   "source": [
    "def ht_picture_download(item_id, out_dir=None):\n",
    "    \"\"\"\n",
    "    :param item_id: unique HathiTrust volume identifier\n",
    "    :param out_dir: destination for images; if None, no download\n",
    "    \n",
    "    Note: if supplied, out_dir must be an existing directory and\n",
    "    the caller must have write permissions in that directory\n",
    "    \n",
    "    :rtype list of pages with IMAGE_ON_PAGE feature\n",
    "    \"\"\"\n",
    "    \n",
    "    print(\"[{}] Starting processing\".format(item_id))\n",
    "    \n",
    "    # metadata from API in json format (different than HT collection metadata)\n",
    "    meta = json.loads(data_api.getmeta(item_id, json=True))\n",
    "\n",
    "    # sequence gets us each page of the PDF in order, with any\n",
    "    # additional information that might be available for it\n",
    "    sequence = meta['htd:seqmap'][0]['htd:seq']\n",
    "\n",
    "    # list of pages with pictures (empty to start)\n",
    "    img_pages = []\n",
    "\n",
    "    # try/except block handles situation where no \"pfeats\" exist OR\n",
    "    # the sequence numbers are not numeric\n",
    "    for page in sequence:\n",
    "        try:\n",
    "            if 'IMAGE_ON_PAGE' in page['htd:pfeat']:\n",
    "                img_pages.append(int(page['pseq']))\n",
    "        except (KeyError, TypeError) as e:\n",
    "            continue\n",
    "        \n",
    "    # track for download progress report\n",
    "    total_pages = len(img_pages)\n",
    "\n",
    "    # if out_dir is not None, then also download page images\n",
    "    if out_dir:\n",
    "        \n",
    "         # return if folder already exists (reasonable inference that volume already processed)\n",
    "        if os.path.isdir(out_dir):\n",
    "            print(\"[{}] Directory already exists.\".format(item_id))\n",
    "            return img_pages\n",
    "\n",
    "        # otherwise, create folder to put the images\n",
    "        print(\"[{}] Making directory {}\".format(item_id, out_dir))\n",
    "        os.makedirs(out_dir)\n",
    "        \n",
    "        for i, page in enumerate(img_pages):\n",
    "            try:\n",
    "                print(\"[{}] Downloading page {} ({}/{})\".format(item_id, page, i+1, total_pages))\n",
    "                img = data_api.getpageimage(item_id, page)\n",
    "            \n",
    "                # just store in CWD\n",
    "                img_out = os.path.join(out_dir, str(page) + \".jpg\")\n",
    "    \n",
    "                # write out the image\n",
    "                with open(img_out, 'wb') as fp:\n",
    "                    fp.write(img)\n",
    "\n",
    "                # to avoid exceeding the allowed API usage, we take a quick\n",
    "                # two-second break before requesting the next image\n",
    "                time.sleep(2)\n",
    "\n",
    "            except Exception as e:\n",
    "                print(\"[{}] Error downloading page {}: {}\".format(item_id, page,e))\n",
    "                \n",
    "    # return the list of image pages\n",
    "    return img_pages"
   ]
  },
  {
   "cell_type": "code",
   "execution_count": 19,
   "metadata": {},
   "outputs": [
    {
     "name": "stdout",
     "output_type": "stream",
     "text": [
      "[osu.32435078698222] Starting processing\n",
      "[osu.32435078698222] Directory already exists.\n",
      "[hvd.32044021161005] Starting processing\n",
      "[hvd.32044021161005] Directory already exists.\n"
     ]
    }
   ],
   "source": [
    "# loop over volumes in our collection\n",
    "for item_id in vol_ids:\n",
    "    destination = os.path.join(\"items\", \"hathitrust\", item_id)\n",
    "    ht_picture_download(item_id, out_dir=destination)"
   ]
  },
  {
   "cell_type": "code",
   "execution_count": null,
   "metadata": {},
   "outputs": [],
   "source": []
  }
 ],
 "metadata": {
  "kernelspec": {
   "display_name": "Python 3",
   "language": "python",
   "name": "python3"
  },
  "language_info": {
   "codemirror_mode": {
    "name": "ipython",
    "version": 3
   },
   "file_extension": ".py",
   "mimetype": "text/x-python",
   "name": "python",
   "nbconvert_exporter": "python",
   "pygments_lexer": "ipython3",
   "version": "3.6.6"
  }
 },
 "nbformat": 4,
 "nbformat_minor": 2
}
