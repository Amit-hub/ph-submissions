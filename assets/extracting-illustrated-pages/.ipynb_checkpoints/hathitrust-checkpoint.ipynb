{
 "cells": [
  {
   "cell_type": "markdown",
   "metadata": {},
   "source": [
    "# Setup\n",
    "\n",
    "First, we import the library. Then, we grab the API tokens from our `keys.py` file (not in Git!)."
   ]
  },
  {
   "cell_type": "code",
   "execution_count": 19,
   "metadata": {
    "scrolled": true
   },
   "outputs": [],
   "source": [
    "from hathitrust_api import DataAPI\n",
    "import json\n",
    "from keys import ht_keys\n",
    "import os\n",
    "import time"
   ]
  },
  {
   "cell_type": "code",
   "execution_count": 6,
   "metadata": {},
   "outputs": [],
   "source": [
    "data_api = DataAPI(ht_keys['access'], ht_keys['secret'])"
   ]
  },
  {
   "cell_type": "code",
   "execution_count": 8,
   "metadata": {},
   "outputs": [],
   "source": [
    "metadata_path = \"554050894-1535834127.json\""
   ]
  },
  {
   "cell_type": "code",
   "execution_count": 10,
   "metadata": {},
   "outputs": [
    {
     "data": {
      "text/plain": [
       "dict_keys(['id', 'type', 'description', 'created', 'extent', 'formats', 'publisher', 'title', 'visibility', 'gathers'])"
      ]
     },
     "execution_count": 10,
     "metadata": {},
     "output_type": "execute_result"
    }
   ],
   "source": [
    "with open(metadata_path, \"r\") as fp:\n",
    "    data = json.load(fp)\n",
    "    \n",
    "data.keys()"
   ]
  },
  {
   "cell_type": "code",
   "execution_count": 11,
   "metadata": {},
   "outputs": [
    {
     "data": {
      "text/plain": [
       "[{'title': 'The tales of Peter Parley about America. ',\n",
       "  'author': 'Goodrich, Samuel G. 1793-1860.',\n",
       "  'date': '1827-00-00',\n",
       "  'rights': 'pd',\n",
       "  'oclc': ['39945876'],\n",
       "  'lccn': None,\n",
       "  'isbn': None,\n",
       "  'catalog_url': 'https://catalog.hathitrust.org/Record/100221263',\n",
       "  'htitem_id': 'osu.32435078698222'},\n",
       " {'title': 'The tales of Peter Parley about America. ',\n",
       "  'author': 'Goodrich, Samuel G. 1793-1860.',\n",
       "  'date': '1830-00-00',\n",
       "  'rights': 'pd',\n",
       "  'oclc': ['4358983'],\n",
       "  'lccn': None,\n",
       "  'isbn': None,\n",
       "  'catalog_url': 'https://catalog.hathitrust.org/Record/009719143',\n",
       "  'htitem_id': 'hvd.32044021161005'}]"
      ]
     },
     "execution_count": 11,
     "metadata": {},
     "output_type": "execute_result"
    }
   ],
   "source": [
    "data['gathers']"
   ]
  },
  {
   "cell_type": "code",
   "execution_count": 12,
   "metadata": {},
   "outputs": [
    {
     "data": {
      "text/plain": [
       "['osu.32435078698222', 'hvd.32044021161005']"
      ]
     },
     "execution_count": 12,
     "metadata": {},
     "output_type": "execute_result"
    }
   ],
   "source": [
    "vol_ids = [item['htitem_id'] for item in data['gathers']]\n",
    "vol_ids"
   ]
  },
  {
   "cell_type": "code",
   "execution_count": 30,
   "metadata": {},
   "outputs": [],
   "source": [
    "def ht_download(item_id, out_dir=None):\n",
    "    \"\"\"\n",
    "    :param item_id: unique HathiTrust volume identifier\n",
    "    :param out_dir: destination for images; if None, no download\n",
    "    \n",
    "    Note: if supplied, out_dir must be an existing directory and\n",
    "    the caller must have write permissions in that directory\n",
    "    \n",
    "    :rtype list of pages with IMAGE_ON_PAGE feature\n",
    "    \"\"\"\n",
    "    \n",
    "    # metadata from API in json format (different than HT collection metadata)\n",
    "    meta = json.loads(data_api.getmeta(item_id, json=True))\n",
    "\n",
    "    # sequence gets us each page of the PDF in order, with any\n",
    "    # additional information that might be available for it\n",
    "    sequence = meta['htd:seqmap'][0]['htd:seq']\n",
    "\n",
    "    # list comprehension finds pages with given feature\n",
    "    # try/except block handles situation where no \"pfeats\" exist OR\n",
    "    # the values are not numeric\n",
    "    try:\n",
    "        img_pages = [int(page['pseq']) for page in sequence if 'IMAGE_ON_PAGE' in page['htd:pfeat']]\n",
    "    except TypeError:\n",
    "        img_pages = []\n",
    "        \n",
    "    # track for download progress report\n",
    "    total_pages = len(img_pages)\n",
    "\n",
    "    # if out_dir is not None, then also download page images\n",
    "    if out_dir:\n",
    "        \n",
    "         # return if folder already exists (reasonable inference that volume already processed)\n",
    "        if os.path.isdir(out_dir):\n",
    "            print(\"[{}] Directory already exists.\".format(item_id))\n",
    "            return img_pages\n",
    "\n",
    "        # otherwise, create folder to put the images\n",
    "        print(\"[{}] Making directory\".format(out_dir))\n",
    "        os.makedirs(out_dir)\n",
    "        \n",
    "        for i, page in enumerate(img_pages):\n",
    "            try:\n",
    "                print(\"[{}] Downloading page {} ({}/{})\".format(item_id, page, i+1, total_pages))\n",
    "                img = data_api.getpageimage(item_id, page)\n",
    "            \n",
    "                # just store in CWD\n",
    "                img_out = os.path.join(out_dir, str(page) + \".jpg\")\n",
    "    \n",
    "                # write out the image\n",
    "                with open(img_out, 'wb') as fp:\n",
    "                    fp.write(img)\n",
    "\n",
    "                # per conversation with Ryan Dubnicek @ HathiTrust\n",
    "                # avoid API throttling...\n",
    "                time.sleep(2)\n",
    "\n",
    "            except Exception as e:\n",
    "                print(\"[{}] Error downloading page {}: {}\".format(item_id, page,e))\n",
    "                \n",
    "    # return the list of image pages\n",
    "    return img_pages"
   ]
  },
  {
   "cell_type": "code",
   "execution_count": 29,
   "metadata": {},
   "outputs": [
    {
     "name": "stdout",
     "output_type": "stream",
     "text": [
      "[osu.32435078698222] Making directory\n",
      "[osu.32435078698222] Downloading page 8 (0/31)\n",
      "[osu.32435078698222] Downloading page 10 (1/31)\n",
      "[osu.32435078698222] Downloading page 11 (2/31)\n",
      "[osu.32435078698222] Downloading page 12 (3/31)\n",
      "[osu.32435078698222] Downloading page 13 (4/31)\n",
      "[osu.32435078698222] Downloading page 16 (5/31)\n",
      "[osu.32435078698222] Downloading page 20 (6/31)\n",
      "[osu.32435078698222] Downloading page 26 (7/31)\n",
      "[osu.32435078698222] Downloading page 28 (8/31)\n",
      "[osu.32435078698222] Downloading page 29 (9/31)\n",
      "[osu.32435078698222] Downloading page 37 (10/31)\n",
      "[osu.32435078698222] Downloading page 38 (11/31)\n",
      "[osu.32435078698222] Downloading page 41 (12/31)\n",
      "[osu.32435078698222] Downloading page 44 (13/31)\n",
      "[osu.32435078698222] Downloading page 46 (14/31)\n",
      "[osu.32435078698222] Downloading page 47 (15/31)\n",
      "[osu.32435078698222] Downloading page 48 (16/31)\n",
      "[osu.32435078698222] Downloading page 49 (17/31)\n",
      "[osu.32435078698222] Downloading page 50 (18/31)\n",
      "[osu.32435078698222] Downloading page 54 (19/31)\n",
      "[osu.32435078698222] Downloading page 57 (20/31)\n",
      "[osu.32435078698222] Downloading page 58 (21/31)\n",
      "[osu.32435078698222] Downloading page 61 (22/31)\n",
      "[osu.32435078698222] Downloading page 65 (23/31)\n",
      "[osu.32435078698222] Downloading page 70 (24/31)\n",
      "[osu.32435078698222] Downloading page 74 (25/31)\n",
      "[osu.32435078698222] Downloading page 84 (26/31)\n",
      "[osu.32435078698222] Downloading page 94 (27/31)\n",
      "[osu.32435078698222] Downloading page 100 (28/31)\n",
      "[osu.32435078698222] Downloading page 105 (29/31)\n",
      "[osu.32435078698222] Downloading page 119 (30/31)\n"
     ]
    },
    {
     "data": {
      "text/plain": [
       "[8,\n",
       " 10,\n",
       " 11,\n",
       " 12,\n",
       " 13,\n",
       " 16,\n",
       " 20,\n",
       " 26,\n",
       " 28,\n",
       " 29,\n",
       " 37,\n",
       " 38,\n",
       " 41,\n",
       " 44,\n",
       " 46,\n",
       " 47,\n",
       " 48,\n",
       " 49,\n",
       " 50,\n",
       " 54,\n",
       " 57,\n",
       " 58,\n",
       " 61,\n",
       " 65,\n",
       " 70,\n",
       " 74,\n",
       " 84,\n",
       " 94,\n",
       " 100,\n",
       " 105,\n",
       " 119]"
      ]
     },
     "execution_count": 29,
     "metadata": {},
     "output_type": "execute_result"
    }
   ],
   "source": [
    "# dest name is just the volume id\n",
    "ht_download(vol_ids[0], out_dir=vol_ids[0])  "
   ]
  },
  {
   "cell_type": "code",
   "execution_count": 32,
   "metadata": {},
   "outputs": [
    {
     "name": "stdout",
     "output_type": "stream",
     "text": [
      "osu.32435078698222 [8, 10, 11, 12, 13, 16, 20, 26, 28, 29, 37, 38, 41, 44, 46, 47, 48, 49, 50, 54, 57, 58, 61, 65, 70, 74, 84, 94, 100, 105, 119]\n",
      "hvd.32044021161005 [1, 2, 7, 14, 16, 17, 18, 19, 22, 27, 33, 35, 37, 44, 45, 46, 47, 48, 49, 52, 55, 57, 58, 59, 60, 61, 65, 68, 69, 71, 73, 74, 76, 80, 86, 88, 103, 128, 129, 130]\n"
     ]
    }
   ],
   "source": [
    "for item_id in vol_ids:\n",
    "    print(item_id, ht_download(item_id, out_dir=None))"
   ]
  },
  {
   "cell_type": "code",
   "execution_count": null,
   "metadata": {},
   "outputs": [],
   "source": []
  }
 ],
 "metadata": {
  "kernelspec": {
   "display_name": "Python 3",
   "language": "python",
   "name": "python3"
  },
  "language_info": {
   "codemirror_mode": {
    "name": "ipython",
    "version": 3
   },
   "file_extension": ".py",
   "mimetype": "text/x-python",
   "name": "python",
   "nbconvert_exporter": "python",
   "pygments_lexer": "ipython3",
   "version": "3.6.6"
  }
 },
 "nbformat": 4,
 "nbformat_minor": 2
}
